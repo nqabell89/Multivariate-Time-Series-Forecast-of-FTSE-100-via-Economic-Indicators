{
 "cells": [
  {
   "cell_type": "code",
   "execution_count": 18,
   "metadata": {},
   "outputs": [],
   "source": [
    "# Import libraries\n",
    "import pandas as pd\n",
    "import numpy as np\n",
    "import quandl"
   ]
  },
  {
   "cell_type": "code",
   "execution_count": 19,
   "metadata": {},
   "outputs": [],
   "source": [
    "# Authenticate quandl api key\n",
    "quandl_api_key = \"Zmns8n4ypL4kRmFxnsxC\"\n",
    "quandl.ApiConfig.api_key = quandl_api_key"
   ]
  },
  {
   "cell_type": "code",
   "execution_count": null,
   "metadata": {},
   "outputs": [],
   "source": [
    "# Data sources: Bank of England, St. Louis FED, United Kingdom Office of National Statistics"
   ]
  },
  {
   "cell_type": "code",
   "execution_count": 35,
   "metadata": {},
   "outputs": [
    {
     "data": {
      "text/html": [
       "<div>\n",
       "<style scoped>\n",
       "    .dataframe tbody tr th:only-of-type {\n",
       "        vertical-align: middle;\n",
       "    }\n",
       "\n",
       "    .dataframe tbody tr th {\n",
       "        vertical-align: top;\n",
       "    }\n",
       "\n",
       "    .dataframe thead th {\n",
       "        text-align: right;\n",
       "    }\n",
       "</style>\n",
       "<table border=\"1\" class=\"dataframe\">\n",
       "  <thead>\n",
       "    <tr style=\"text-align: right;\">\n",
       "      <th></th>\n",
       "      <th>fwd_6mo_usd_to_gbp</th>\n",
       "      <th>10yr_treasury_yield</th>\n",
       "      <th>uk_gdp_qoq_cvm_sa_growth_%</th>\n",
       "      <th>uk_unemployment_sa_%</th>\n",
       "    </tr>\n",
       "    <tr>\n",
       "      <th>Date</th>\n",
       "      <th></th>\n",
       "      <th></th>\n",
       "      <th></th>\n",
       "      <th></th>\n",
       "    </tr>\n",
       "  </thead>\n",
       "  <tbody>\n",
       "    <tr>\n",
       "      <td>1993-03-31</td>\n",
       "      <td>1.4876</td>\n",
       "      <td>9.1854</td>\n",
       "      <td>0.7</td>\n",
       "      <td>10.4</td>\n",
       "    </tr>\n",
       "    <tr>\n",
       "      <td>1993-06-30</td>\n",
       "      <td>1.4824</td>\n",
       "      <td>8.5956</td>\n",
       "      <td>0.5</td>\n",
       "      <td>10.2</td>\n",
       "    </tr>\n",
       "    <tr>\n",
       "      <td>1993-09-30</td>\n",
       "      <td>1.4803</td>\n",
       "      <td>7.6200</td>\n",
       "      <td>0.8</td>\n",
       "      <td>10.1</td>\n",
       "    </tr>\n",
       "    <tr>\n",
       "      <td>1993-12-31</td>\n",
       "      <td>1.4656</td>\n",
       "      <td>6.7742</td>\n",
       "      <td>0.7</td>\n",
       "      <td>10.1</td>\n",
       "    </tr>\n",
       "    <tr>\n",
       "      <td>1994-03-31</td>\n",
       "      <td>1.4757</td>\n",
       "      <td>7.5876</td>\n",
       "      <td>1.2</td>\n",
       "      <td>9.8</td>\n",
       "    </tr>\n",
       "  </tbody>\n",
       "</table>\n",
       "</div>"
      ],
      "text/plain": [
       "            fwd_6mo_usd_to_gbp  10yr_treasury_yield  \\\n",
       "Date                                                  \n",
       "1993-03-31              1.4876               9.1854   \n",
       "1993-06-30              1.4824               8.5956   \n",
       "1993-09-30              1.4803               7.6200   \n",
       "1993-12-31              1.4656               6.7742   \n",
       "1994-03-31              1.4757               7.5876   \n",
       "\n",
       "            uk_gdp_qoq_cvm_sa_growth_%  uk_unemployment_sa_%  \n",
       "Date                                                          \n",
       "1993-03-31                         0.7                  10.4  \n",
       "1993-06-30                         0.5                  10.2  \n",
       "1993-09-30                         0.8                  10.1  \n",
       "1993-12-31                         0.7                  10.1  \n",
       "1994-03-31                         1.2                   9.8  "
      ]
     },
     "execution_count": 35,
     "metadata": {},
     "output_type": "execute_result"
    }
   ],
   "source": [
    "# Create dataframe, retrieve UK economic data, merge, and rename columns\n",
    "df = quandl.get('BOE/XUDLDS6') # USD to GBP, 6-month forward exchange rate\n",
    "df.rename(columns = {'Value':'fwd_6mo_usd_to_gbp'}, inplace = True)\n",
    "\n",
    "df = pd.merge(df, quandl.get('BOE/IUDMNIF'), left_index = True, right_index = True) # 10yr nominal implied forward treasury yield, %\n",
    "df.rename(columns = {'Value':'10yr_treasury_yield'}, inplace = True)\n",
    "\n",
    "df = pd.merge(df, quandl.get('UKONS/IHYQ_Q'), left_index = True, right_index = True) # QOQ GDP Growth, CVM SA\n",
    "df.rename(columns = {'Value':'uk_gdp_qoq_cvm_sa_growth_%'}, inplace = True)\n",
    "\n",
    "df = pd.merge(df, quandl.get('UKONS/ZXDW_Q'), left_index = True, right_index = True) # Quarterly SA UK Unemployment Rate\n",
    "df.rename(columns = {'Value':'uk_unemployment_sa_%'}, inplace = True)\n",
    "df.head()"
   ]
  },
  {
   "cell_type": "code",
   "execution_count": 32,
   "metadata": {},
   "outputs": [
    {
     "data": {
      "text/plain": [
       "26"
      ]
     },
     "execution_count": 32,
     "metadata": {},
     "output_type": "execute_result"
    }
   ],
   "source": [
    "df['uk_import_annual_%_change'].notnull().sum()"
   ]
  },
  {
   "cell_type": "code",
   "execution_count": null,
   "metadata": {},
   "outputs": [],
   "source": []
  }
 ],
 "metadata": {
  "kernelspec": {
   "display_name": "Python 3",
   "language": "python",
   "name": "python3"
  },
  "language_info": {
   "codemirror_mode": {
    "name": "ipython",
    "version": 3
   },
   "file_extension": ".py",
   "mimetype": "text/x-python",
   "name": "python",
   "nbconvert_exporter": "python",
   "pygments_lexer": "ipython3",
   "version": "3.7.4"
  }
 },
 "nbformat": 4,
 "nbformat_minor": 4
}
